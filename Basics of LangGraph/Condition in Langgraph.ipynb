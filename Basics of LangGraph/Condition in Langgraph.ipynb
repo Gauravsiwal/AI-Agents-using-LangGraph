{
 "cells": [
  {
   "cell_type": "code",
   "execution_count": 1,
   "id": "d7cf0fd3",
   "metadata": {},
   "outputs": [],
   "source": [
    "from typing_extensions import TypedDict, Literal\n",
    "from langgraph.graph import StateGraph, END, START"
   ]
  },
  {
   "cell_type": "code",
   "execution_count": 2,
   "id": "0982fa56",
   "metadata": {},
   "outputs": [],
   "source": [
    "class Account_State(TypedDict):\n",
    "    current_bal : int\n",
    "    amount : int\n",
    "    action : Literal[\"Debit\",'Credit']\n",
    "    balance : None"
   ]
  },
  {
   "cell_type": "code",
   "execution_count": 3,
   "id": "8ff05974",
   "metadata": {},
   "outputs": [],
   "source": [
    "def credit_amount(state:Account_State) -> Account_State:\n",
    "    return {'balance':state[\"current_bal\"] + state[\"amount\"]}"
   ]
  },
  {
   "cell_type": "code",
   "execution_count": 4,
   "id": "f769140c",
   "metadata": {},
   "outputs": [],
   "source": [
    "def debit_amount(state: Account_State) -> Account_State:\n",
    "    if state['current_bal'] - state['amount'] < 5000:\n",
    "        raise ValueError('Balance Cannot be less than 50000 ')\n",
    "    else:\n",
    "        return {'balance':state['current_bal'] - state['amount']}\n"
   ]
  },
  {
   "cell_type": "code",
   "execution_count": 6,
   "id": "e85ce3f1",
   "metadata": {},
   "outputs": [],
   "source": [
    "def choose_action(state: Account_State) -> str:\n",
    "    return state['action']"
   ]
  },
  {
   "cell_type": "code",
   "execution_count": 7,
   "id": "afff6834",
   "metadata": {},
   "outputs": [],
   "source": [
    "builder = StateGraph(Account_State)\n",
    "\n",
    "builder.add_node('Credit_node',credit_amount)\n",
    "builder.add_node('Debit_node',debit_amount)\n",
    "\n",
    "builder.add_conditional_edges(START,choose_action,{'Credit':'Credit_node','Debit':'Debit_node'})\n",
    "builder.add_edge(['Credit_node','Debit_node'],END)\n",
    "\n",
    "graph = builder.compile()"
   ]
  },
  {
   "cell_type": "code",
   "execution_count": 9,
   "id": "091ca562",
   "metadata": {},
   "outputs": [
    {
     "data": {
      "text/plain": [
       "{'current_bal': 76000, 'amount': 15000, 'action': 'Credit', 'balance': 91000}"
      ]
     },
     "execution_count": 9,
     "metadata": {},
     "output_type": "execute_result"
    }
   ],
   "source": [
    "graph.invoke({\"current_bal\":76000,'action':'Credit','amount':15000})"
   ]
  },
  {
   "cell_type": "code",
   "execution_count": 10,
   "id": "817e4c8f",
   "metadata": {},
   "outputs": [
    {
     "data": {
      "text/plain": [
       "{'current_bal': 76000, 'amount': 15000, 'action': 'Debit', 'balance': 61000}"
      ]
     },
     "execution_count": 10,
     "metadata": {},
     "output_type": "execute_result"
    }
   ],
   "source": [
    "graph.invoke({\"current_bal\":76000,'action':'Debit','amount':15000})"
   ]
  },
  {
   "cell_type": "code",
   "execution_count": 15,
   "id": "15e44b6f",
   "metadata": {},
   "outputs": [],
   "source": [
    "# graph.invoke({\"current_bal\":56000,'action':'Debit','amount':55000})   # This will raise ValueError"
   ]
  },
  {
   "cell_type": "code",
   "execution_count": 14,
   "id": "b2144770",
   "metadata": {},
   "outputs": [
    {
     "name": "stdout",
     "output_type": "stream",
     "text": [
      "              +-----------+               \n",
      "              | __start__ |               \n",
      "              +-----------+               \n",
      "             ...          ..              \n",
      "            .               ..            \n",
      "          ..                  ..          \n",
      "+-------------+           +------------+  \n",
      "| Credit_node |           | Debit_node |  \n",
      "+-------------+           +------------+  \n",
      "             ***          **              \n",
      "                *       **                \n",
      "                 **   **                  \n",
      "               +---------+                \n",
      "               | __end__ |                \n",
      "               +---------+                \n"
     ]
    }
   ],
   "source": [
    "print(graph.get_graph().draw_ascii())"
   ]
  },
  {
   "cell_type": "code",
   "execution_count": null,
   "id": "83c74f8a",
   "metadata": {},
   "outputs": [],
   "source": []
  }
 ],
 "metadata": {
  "kernelspec": {
   "display_name": "base",
   "language": "python",
   "name": "python3"
  },
  "language_info": {
   "codemirror_mode": {
    "name": "ipython",
    "version": 3
   },
   "file_extension": ".py",
   "mimetype": "text/x-python",
   "name": "python",
   "nbconvert_exporter": "python",
   "pygments_lexer": "ipython3",
   "version": "3.13.5"
  }
 },
 "nbformat": 4,
 "nbformat_minor": 5
}
