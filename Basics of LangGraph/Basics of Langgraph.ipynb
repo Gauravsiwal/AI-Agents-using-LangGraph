{
 "cells": [
  {
   "cell_type": "markdown",
   "id": "e3c52588",
   "metadata": {},
   "source": [
    "## BASICS OF LANGGRAPH\n",
    "\n",
    "This LangGraph project demonstrates a simple, sequential workflow for calculating financial figures. The core components are a `TypedDict` state schema (`Person_State`) defining shared variables like `principle`, `rate`, and `time`. The workflow consists of two nodes: `calc_SI` calculates the Simple Interest (SI), and `account_bal` uses that result to calculate the final `balance`. The graph runs sequentially from `START` to `SI_Calculator`, then to `Balance_calculator`, and finally to `END`. It successfully compiles and executes, showing the final state containing the inputs, calculated SI, and the final balance. The graph structure is also visualized using ASCII art."
   ]
  },
  {
   "cell_type": "markdown",
   "id": "42707ca0",
   "metadata": {},
   "source": [
    "### Import necessary components for building the graph."
   ]
  },
  {
   "cell_type": "code",
   "execution_count": 39,
   "id": "ba3e46e6",
   "metadata": {},
   "outputs": [],
   "source": [
    "# Import necessary components for building the graph.\n",
    "# TypedDict is used to define the schema (structure and types) of the graph's state.\n",
    "from typing_extensions import TypedDict, Optional\n",
    "\n",
    "# StateGraph is the main class for building state-based workflows.\n",
    "# START and END are special nodes defining the entry and exit points of the graph.\n",
    "from langgraph.graph import StateGraph, END, START"
   ]
  },
  {
   "cell_type": "markdown",
   "id": "ccdaee52",
   "metadata": {},
   "source": [
    "### Define the Graph State Schema (Person_State)."
   ]
  },
  {
   "cell_type": "code",
   "execution_count": 40,
   "id": "04a3c7d2",
   "metadata": {},
   "outputs": [],
   "source": [
    "# This dictionary holds all information shared and updated by the nodes in the graph.\n",
    "class Person_State(TypedDict):\n",
    "    # Input parameters for the Simple Interest calculation:\n",
    "    principle : int\n",
    "    rate : float\n",
    "    time : int\n",
    "    # Output fields. Initially set to 'None' as they will be calculated by the nodes.\n",
    "    SI : None # Simple Interest (will be a float after calculation) # Alternative code SI : Optional[float]\n",
    "    balance : None # Account Balance (will be a float after calculation)"
   ]
  },
  {
   "cell_type": "markdown",
   "id": "092541c0",
   "metadata": {},
   "source": [
    "### Define Node Function 1: Simple Interest Calculator."
   ]
  },
  {
   "cell_type": "code",
   "execution_count": 41,
   "id": "2305b73e",
   "metadata": {},
   "outputs": [],
   "source": [
    "\n",
    "# All node functions receive the current graph state (Person_State) as input.\n",
    "def calc_SI(state:Person_State) -> Person_State:\n",
    "    # Calculation: SI = P * R * T / 100\n",
    "    si = state['principle']*state['rate']*state['time']/100\n",
    "    # The function returns a dictionary of state updates. \n",
    "    # LangGraph automatically merges this {\"SI\": si} into the main 'state' object.\n",
    "    return {\"SI\":si}"
   ]
  },
  {
   "cell_type": "markdown",
   "id": "4fdb1fe8",
   "metadata": {},
   "source": [
    "### Define Node Function 2: Account Balance Calculator."
   ]
  },
  {
   "cell_type": "code",
   "execution_count": 42,
   "id": "cf18ddb3",
   "metadata": {},
   "outputs": [],
   "source": [
    "\n",
    "# This node runs after 'calc_SI' and can use the calculated 'SI' value from the state.\n",
    "def account_bal(state: Person_State) -> Person_State:\n",
    "    # Calculation: Balance = Principle + Simple Interest\n",
    "    bal = state['SI'] + state['principle']\n",
    "    # Update the state with the calculated balance.\n",
    "    return {'balance':bal}"
   ]
  },
  {
   "cell_type": "markdown",
   "id": "0ddf54f8",
   "metadata": {},
   "source": [
    "### Build the Graph Structure"
   ]
  },
  {
   "cell_type": "code",
   "execution_count": 43,
   "id": "4cb972c6",
   "metadata": {},
   "outputs": [],
   "source": [
    "\n",
    "# Initialize the graph builder using the defined state schema (Person_State).\n",
    "builder = StateGraph(Person_State)\n",
    "\n",
    "# Add the functions as executable nodes to the graph.\n",
    "builder.add_node('SI_Calculator',calc_SI)\n",
    "builder.add_node('Balance_calculator',account_bal)\n",
    "\n",
    "# Define the workflow (edges/transitions):\n",
    "# 1. Start execution at 'SI_Calculator' using the input data.\n",
    "builder.add_edge(START,'SI_Calculator')\n",
    "# 2. After 'SI_Calculator' runs, transition to 'Balance_calculator'.\n",
    "builder.add_edge('SI_Calculator','Balance_calculator')\n",
    "# 3. After 'Balance_calculator' runs, terminate the graph execution.\n",
    "builder.add_edge('Balance_calculator',END)\n",
    "\n",
    "# Compile the graph into a runnable object (ready for execution).\n",
    "graph = builder.compile()\n"
   ]
  },
  {
   "cell_type": "markdown",
   "id": "9ec47237",
   "metadata": {},
   "source": [
    "### Run the Graph (Invocation)"
   ]
  },
  {
   "cell_type": "code",
   "execution_count": 44,
   "id": "42d34ba7",
   "metadata": {},
   "outputs": [
    {
     "data": {
      "text/plain": [
       "{'principle': 56000, 'rate': 5.5, 'time': 2, 'SI': 6160.0, 'balance': 62160.0}"
      ]
     },
     "execution_count": 44,
     "metadata": {},
     "output_type": "execute_result"
    }
   ],
   "source": [
    "\n",
    "# The 'invoke' method runs the graph with the initial state provided.\n",
    "# The input dictionary is merged into the Person_State and used by the nodes in sequence.\n",
    "# The final result is the complete state dictionary after all nodes have executed.\n",
    "graph.invoke({'principle':56000,\"rate\":5.5,'time':2})"
   ]
  },
  {
   "cell_type": "markdown",
   "id": "a5d5fe4c",
   "metadata": {},
   "source": [
    "### Visualize the Graph"
   ]
  },
  {
   "cell_type": "code",
   "execution_count": 45,
   "id": "a2b39c7d",
   "metadata": {},
   "outputs": [],
   "source": [
    "# Install dependency for ASCII visualization\n",
    "# This package is required by LangGraph to correctly format the graph into ASCII art.\n",
    "# !pip install grandalf"
   ]
  },
  {
   "cell_type": "code",
   "execution_count": 46,
   "id": "6d17247c",
   "metadata": {},
   "outputs": [
    {
     "name": "stdout",
     "output_type": "stream",
     "text": [
      "    +-----------+      \n",
      "    | __start__ |      \n",
      "    +-----------+      \n",
      "           *           \n",
      "           *           \n",
      "           *           \n",
      "  +---------------+    \n",
      "  | SI_Calculator |    \n",
      "  +---------------+    \n",
      "           *           \n",
      "           *           \n",
      "           *           \n",
      "+--------------------+ \n",
      "| Balance_calculator | \n",
      "+--------------------+ \n",
      "           *           \n",
      "           *           \n",
      "           *           \n",
      "      +---------+      \n",
      "      | __end__ |      \n",
      "      +---------+      \n"
     ]
    }
   ],
   "source": [
    "# get_graph() retrieves the structure of the compiled graph.\n",
    "# draw_ascii() outputs a text-based, tree-like representation of the node flow.\n",
    "print(graph.get_graph().draw_ascii())"
   ]
  }
 ],
 "metadata": {
  "kernelspec": {
   "display_name": "base",
   "language": "python",
   "name": "python3"
  },
  "language_info": {
   "codemirror_mode": {
    "name": "ipython",
    "version": 3
   },
   "file_extension": ".py",
   "mimetype": "text/x-python",
   "name": "python",
   "nbconvert_exporter": "python",
   "pygments_lexer": "ipython3",
   "version": "3.13.5"
  }
 },
 "nbformat": 4,
 "nbformat_minor": 5
}
