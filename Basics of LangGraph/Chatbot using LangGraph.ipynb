{
 "cells": [
  {
   "cell_type": "code",
   "execution_count": 17,
   "id": "c0287d0d",
   "metadata": {},
   "outputs": [],
   "source": [
    "from typing import Annotated\n",
    "from typing_extensions import TypedDict\n",
    "from langgraph.graph.message import add_messages\n",
    "from langgraph.graph import StateGraph, START, END\n",
    "from langchain_google_genai import ChatGoogleGenerativeAI\n",
    "import os"
   ]
  },
  {
   "cell_type": "code",
   "execution_count": 18,
   "id": "1f93dbda",
   "metadata": {},
   "outputs": [],
   "source": [
    "# Configure LLM\n",
    "apikey = os.getenv('GOOGLE_API_KEY')\n",
    "llm = ChatGoogleGenerativeAI(model='gemini-2.5-flash-lite',api_key=apikey)"
   ]
  },
  {
   "cell_type": "code",
   "execution_count": 19,
   "id": "8de0c787",
   "metadata": {},
   "outputs": [],
   "source": [
    "class Chatbot_State(TypedDict):\n",
    "    message : Annotated[list,add_messages]"
   ]
  },
  {
   "cell_type": "code",
   "execution_count": 20,
   "id": "1e272b40",
   "metadata": {},
   "outputs": [],
   "source": [
    "def chatbot(state:Chatbot_State) -> Chatbot_State:\n",
    "    return {'message':[llm.invoke(state['message'])]}"
   ]
  },
  {
   "cell_type": "code",
   "execution_count": 21,
   "id": "a31fdabf",
   "metadata": {},
   "outputs": [],
   "source": [
    "# LangGraph\n",
    "\n",
    "builder = StateGraph(Chatbot_State)\n",
    "\n",
    "builder.add_node('chatting_bot',chatbot)\n",
    "\n",
    "builder.add_edge(START,\"chatting_bot\")\n",
    "builder.add_edge('chatting_bot',END)\n",
    "\n",
    "graph = builder.compile()"
   ]
  },
  {
   "cell_type": "code",
   "execution_count": 22,
   "id": "ec275d5c",
   "metadata": {},
   "outputs": [
    {
     "name": "stdout",
     "output_type": "stream",
     "text": [
      "  +-----------+  \n",
      "  | __start__ |  \n",
      "  +-----------+  \n",
      "        *        \n",
      "        *        \n",
      "        *        \n",
      "+--------------+ \n",
      "| chatting_bot | \n",
      "+--------------+ \n",
      "        *        \n",
      "        *        \n",
      "        *        \n",
      "  +---------+    \n",
      "  | __end__ |    \n",
      "  +---------+    \n"
     ]
    }
   ],
   "source": [
    "print(graph.get_graph().draw_ascii())"
   ]
  },
  {
   "cell_type": "code",
   "execution_count": 23,
   "id": "d4b2b672",
   "metadata": {},
   "outputs": [
    {
     "name": "stdout",
     "output_type": "stream",
     "text": [
      "MS Dhoni is a legendary Indian cricketer, widely regarded as one of the greatest captains and wicket-keeper batsmen of all time.\n",
      "\n",
      "Here's a breakdown of who he is and why he's so significant:\n",
      "\n",
      "**Key Highlights of his Career:**\n",
      "\n",
      "*   **Captain Marvel:** He is most famous for his incredibly successful captaincy of the Indian national team across all three formats of the game (Test, One Day International (ODI), and Twenty20 International (T20I)). Under his leadership, India achieved unprecedented success:\n",
      "    *   **2007 ICC World Twenty20:** Led India to victory in the inaugural T20 World Cup.\n",
      "    *   **2011 ICC Cricket World Cup:** Captained India to their second ODI World Cup title, a historic win on home soil after a 28-year drought.\n",
      "    *   **2013 ICC Champions Trophy:** Led India to win this prestigious ODI tournament.\n",
      "    *   **No. 1 Test Ranking:** Guided India to the top of the ICC Test rankings for the first time.\n",
      "*   **Master Wicket-keeper:** He was an exceptional wicket-keeper, known for his lightning-fast stumpings and agile catching.\n",
      "*   **Explosive Finisher:** Dhoni was renowned for his \"finishing\" abilities in ODIs and T20Is. He had an uncanny knack for staying calm under pressure and hitting the winning runs, often with powerful sixes. His helicopter shot became iconic.\n",
      "*   **Calm Demeanor:** He was known for his incredibly calm and composed approach on the field, earning him the nickname \"Captain Cool.\" This temperament was crucial in guiding his team through tense situations.\n",
      "*   **Prolific Batsman:** While his captaincy and keeping were standout features, he was also a very effective middle-order batsman, accumulating a significant number of runs in all formats.\n",
      "*   **Long and Illustrious Career:** He had a career spanning over 15 years, retiring from international cricket in August 2020.\n",
      "\n",
      "**Beyond Cricket:**\n",
      "\n",
      "*   **Indian Army:** Dhoni holds an honorary rank of Lieutenant Colonel in the Indian Territorial Army.\n",
      "*   **Business Ventures:** He has been involved in various business ventures and endorsements.\n",
      "*   **Inspiration:** He is an inspiration to millions of aspiring cricketers and people across India and the world, known for his hard work, dedication, and humility.\n",
      "\n",
      "**In essence, MS Dhoni is a cricketing icon who redefined leadership in Indian cricket and left an indelible mark on the sport with his exceptional skills, strategic mind, and unwavering composure.**\n"
     ]
    }
   ],
   "source": [
    "response = graph.invoke({'message':{'role':'user','content':'Who is MS Dhoni?'}})\n",
    "print(response['message'][-1].content)"
   ]
  },
  {
   "cell_type": "code",
   "execution_count": null,
   "id": "3895b2f3",
   "metadata": {},
   "outputs": [
    {
     "name": "stdout",
     "output_type": "stream",
     "text": [
      "User: Hi\n",
      "Assistant: Hello! How can I help you today?\n",
      "User: what is the date today?\n",
      "Assistant: I am a large language model, I do not have access to the current date or time.\n",
      "User: ok\n",
      "Assistant: Alright! What's on your mind? How can I help you today? 😊\n",
      "User: whta is the capital of germany?\n",
      "Assistant: The capital of Germany is **Berlin**.\n",
      "User: How to say good evening in german?\n",
      "Assistant: The most common way to say \"good evening\" in German is:\n",
      "\n",
      "**Guten Abend**\n",
      "\n",
      "* **Guten** means \"good\"\n",
      "* **Abend** means \"evening\"\n",
      "\n",
      "You can pronounce it roughly as: **GOO-ten AH-bent**\n",
      "User: q\n",
      "Good Bye\n"
     ]
    }
   ],
   "source": [
    "# CHATBOT\n",
    "\n",
    "while True:\n",
    "  user_input=input()\n",
    "  print('User:',user_input)\n",
    "  if user_input.lower() in [\"quit\",\"q\"]:\n",
    "    print(\"Good Bye\")\n",
    "    break\n",
    "  for event in graph.stream({'message':(\"user\",user_input)}):\n",
    "    for value in event.values():\n",
    "      print(\"Assistant:\",value[\"message\"][-1].content)"
   ]
  },
  {
   "cell_type": "code",
   "execution_count": null,
   "id": "b74296dd",
   "metadata": {},
   "outputs": [],
   "source": []
  }
 ],
 "metadata": {
  "kernelspec": {
   "display_name": "base",
   "language": "python",
   "name": "python3"
  },
  "language_info": {
   "codemirror_mode": {
    "name": "ipython",
    "version": 3
   },
   "file_extension": ".py",
   "mimetype": "text/x-python",
   "name": "python",
   "nbconvert_exporter": "python",
   "pygments_lexer": "ipython3",
   "version": "3.13.5"
  }
 },
 "nbformat": 4,
 "nbformat_minor": 5
}
