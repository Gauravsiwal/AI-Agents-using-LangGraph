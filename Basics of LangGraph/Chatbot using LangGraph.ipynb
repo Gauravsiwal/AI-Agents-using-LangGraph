{
 "cells": [
  {
   "cell_type": "code",
   "execution_count": 29,
   "id": "c0287d0d",
   "metadata": {},
   "outputs": [],
   "source": [
    "from typing import Annotated\n",
    "from typing_extensions import TypedDict\n",
    "from langgraph.graph.message import add_messages\n",
    "from langgraph.graph import StateGraph, START, END\n",
    "from langchain_google_genai import ChatGoogleGenerativeAI\n",
    "import os"
   ]
  },
  {
   "cell_type": "code",
   "execution_count": 30,
   "id": "1f93dbda",
   "metadata": {},
   "outputs": [],
   "source": [
    "# Configure LLM\n",
    "apikey = os.getenv('GOOGLE_API_KEY')\n",
    "llm = ChatGoogleGenerativeAI(model='gemini-2.5-flash-lite',api_key=apikey)"
   ]
  },
  {
   "cell_type": "code",
   "execution_count": 31,
   "id": "8de0c787",
   "metadata": {},
   "outputs": [],
   "source": [
    "class Chatbot_State(TypedDict):\n",
    "    message : Annotated[list,add_messages]"
   ]
  },
  {
   "cell_type": "code",
   "execution_count": 32,
   "id": "1e272b40",
   "metadata": {},
   "outputs": [],
   "source": [
    "def chatbot(state:Chatbot_State) -> Chatbot_State:\n",
    "    return {'message':[llm.invoke(state['message'])]}"
   ]
  },
  {
   "cell_type": "code",
   "execution_count": 33,
   "id": "a31fdabf",
   "metadata": {},
   "outputs": [],
   "source": [
    "# LangGraph\n",
    "\n",
    "builder = StateGraph(Chatbot_State)\n",
    "\n",
    "builder.add_node('chatting_bot',chatbot)\n",
    "\n",
    "builder.add_edge(START,\"chatting_bot\")\n",
    "builder.add_edge('chatting_bot',END)\n",
    "\n",
    "graph = builder.compile()"
   ]
  },
  {
   "cell_type": "code",
   "execution_count": 34,
   "id": "ec275d5c",
   "metadata": {},
   "outputs": [
    {
     "name": "stdout",
     "output_type": "stream",
     "text": [
      "  +-----------+  \n",
      "  | __start__ |  \n",
      "  +-----------+  \n",
      "        *        \n",
      "        *        \n",
      "        *        \n",
      "+--------------+ \n",
      "| chatting_bot | \n",
      "+--------------+ \n",
      "        *        \n",
      "        *        \n",
      "        *        \n",
      "  +---------+    \n",
      "  | __end__ |    \n",
      "  +---------+    \n"
     ]
    }
   ],
   "source": [
    "print(graph.get_graph().draw_ascii())"
   ]
  },
  {
   "cell_type": "code",
   "execution_count": 35,
   "id": "d4b2b672",
   "metadata": {},
   "outputs": [
    {
     "name": "stdout",
     "output_type": "stream",
     "text": [
      "MS Dhoni is a legendary **Indian former international cricketer** who is widely regarded as one of the greatest captains, wicket-keeper batsmen, and finishers in the history of the sport.\n",
      "\n",
      "Here are some key aspects of his career and legacy:\n",
      "\n",
      "*   **Captain Fantastic:** He is most famous for his incredibly successful captaincy of the Indian cricket team across all three formats (Test, One Day International (ODI), and Twenty20 International (T20I)). Under his leadership, India achieved unprecedented success, including:\n",
      "    *   **ICC T20 World Cup 2007:** A historic victory in the inaugural T20 World Cup, which marked a turning point for Indian cricket and the T20 format.\n",
      "    *   **ICC Cricket World Cup 2011:** Leading India to their second ODI World Cup title after a 28-year drought, a moment of immense national pride.\n",
      "    *   **ICC Champions Trophy 2013:** Making India the only nation to win all three major ICC limited-overs tournaments.\n",
      "    *   **ICC Test Mace:** India also reached the No. 1 ranking in Test cricket under his captaincy.\n",
      "\n",
      "*   **Master Finisher:** Dhoni was renowned for his exceptional ability to finish matches, especially in ODIs. He had an uncanny calmness under pressure and a knack for hitting the winning runs, often with his signature helicopter shot.\n",
      "\n",
      "*   **Wicket-keeper Batsman:** As a wicket-keeper, he was agile and efficient, taking numerous catches and executing quick stumpings. As a batsman, he was known for his unorthodox yet effective technique, powerful hitting, and incredible temperament.\n",
      "\n",
      "*   **\"Captain Cool\":** This nickname perfectly encapsulates his composed and unflappable demeanor, even in the most high-pressure situations. He rarely showed outward emotion and always made rational decisions.\n",
      "\n",
      "*   **Influence and Legacy:** Dhoni's impact extends far beyond statistics. He inspired a generation of cricketers and fans with his leadership, humility, and dedication. He revolutionized the role of a captain and a wicket-keeper batsman in India.\n",
      "\n",
      "*   **Post-Retirement:** After retiring from international cricket in 2020, he continued to play in the Indian Premier League (IPL) for the Chennai Super Kings (CSK), leading them to multiple titles as well. He remains a highly respected and influential figure in Indian cricket.\n",
      "\n",
      "In short, MS Dhoni is a cricketing icon who etched his name in history through his extraordinary leadership, exceptional skills, and unwavering composure.\n"
     ]
    }
   ],
   "source": [
    "response = graph.invoke({'message':{'role':'user','content':'Who is MS Dhoni?'}})\n",
    "print(response['message'][-1].content)"
   ]
  },
  {
   "cell_type": "code",
   "execution_count": 36,
   "id": "3895b2f3",
   "metadata": {},
   "outputs": [
    {
     "name": "stdout",
     "output_type": "stream",
     "text": [
      "User: hi\n",
      "Assistant: Hi there! How can I help you today?\n",
      "User: What is the capital of france?\n",
      "Assistant: The capital of France is **Paris**.\n",
      "User: What the date today?\n",
      "Assistant: I am a large language model, I do not have access to real-time information including the current date.\n",
      "User: q\n",
      "Good Bye\n"
     ]
    }
   ],
   "source": [
    "# CHATBOT\n",
    "\n",
    "while True:\n",
    "  user_input=input()\n",
    "  print('User:',user_input)\n",
    "  if user_input.lower() in [\"quit\",\"q\"]:\n",
    "    print(\"Good Bye\")\n",
    "    break\n",
    "  for event in graph.stream({'message':(\"user\",user_input)}):\n",
    "    for value in event.values():\n",
    "      print(\"Assistant:\",value[\"message\"][-1].content)"
   ]
  },
  {
   "cell_type": "code",
   "execution_count": null,
   "id": "b74296dd",
   "metadata": {},
   "outputs": [],
   "source": []
  }
 ],
 "metadata": {
  "kernelspec": {
   "display_name": "base",
   "language": "python",
   "name": "python3"
  },
  "language_info": {
   "codemirror_mode": {
    "name": "ipython",
    "version": 3
   },
   "file_extension": ".py",
   "mimetype": "text/x-python",
   "name": "python",
   "nbconvert_exporter": "python",
   "pygments_lexer": "ipython3",
   "version": "3.13.5"
  }
 },
 "nbformat": 4,
 "nbformat_minor": 5
}
