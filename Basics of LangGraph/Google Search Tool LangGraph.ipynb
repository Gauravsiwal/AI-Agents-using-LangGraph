{
 "cells": [
  {
   "cell_type": "code",
   "execution_count": 93,
   "id": "b7e8c2e3",
   "metadata": {},
   "outputs": [],
   "source": [
    "from typing import Annotated\n",
    "from typing_extensions import TypedDict\n",
    "\n",
    "from langgraph.graph.message import add_messages\n",
    "from langgraph.graph import StateGraph, START, END\n",
    "from langgraph.prebuilt import ToolNode, tools_condition\n",
    "\n",
    "from langchain_google_genai import ChatGoogleGenerativeAI\n",
    "from langchain_core.tools import tool\n",
    "\n",
    "import os\n",
    "import requests"
   ]
  },
  {
   "cell_type": "code",
   "execution_count": 94,
   "id": "18b4cfec",
   "metadata": {},
   "outputs": [],
   "source": [
    "# configure tools \n",
    "pse_key = os.getenv('API_KEY')\n",
    "\n",
    "@tool\n",
    "def google_search(query: str):\n",
    "    \"\"\"Perform Google Custom Search and return top result snippet.\"\"\"\n",
    "    url = \"https://www.googleapis.com/customsearch/v1\"\n",
    "    params = {\n",
    "        \"key\": pse_key,\n",
    "        \"cx\": '84da54018bf7d48ed',\n",
    "        \"q\": query,\n",
    "        \"num\": 1\n",
    "    }\n",
    "    response = requests.get(url, params=params).json()\n",
    "    items = response.get(\"items\", [])\n",
    "    if items:\n",
    "        return items[0].get(\"snippet\", \"No snippet available.\")\n",
    "    return \"No results found.\"\n",
    "\n",
    "@tool\n",
    "def run_python(code: str) -> dict:\n",
    "    \"\"\"Execute Python code and return result.\"\"\"\n",
    "    try:\n",
    "        # Create a local dictionary for safe execution\n",
    "        local_vars = {}\n",
    "        exec(code,locals=local_vars)\n",
    "        return local_vars if local_vars else {\"Code executed successfully\"}\n",
    "    except Exception as e:\n",
    "        return f\"Error: {e}\"\n",
    "\n",
    "\n",
    "tool_kit = [google_search,run_python]"
   ]
  },
  {
   "cell_type": "code",
   "execution_count": 95,
   "id": "a74a414a",
   "metadata": {},
   "outputs": [],
   "source": [
    "# Configure LLM\n",
    "apikey = os.getenv('GOOGLE_API_KEY')\n",
    "llm = ChatGoogleGenerativeAI(model='gemini-2.5-flash-lite',api_key=apikey)\n",
    "llm_with_tool = llm.bind_tools(tool_kit)"
   ]
  },
  {
   "cell_type": "code",
   "execution_count": 96,
   "id": "0e46d549",
   "metadata": {},
   "outputs": [],
   "source": [
    "class State(TypedDict):\n",
    "    messages : Annotated[list,add_messages]\n",
    "\n",
    "def llm_node(state:State) -> State:\n",
    "    return {'messages':[llm_with_tool.invoke(state['messages'])]}"
   ]
  },
  {
   "cell_type": "code",
   "execution_count": 97,
   "id": "a4754b37",
   "metadata": {},
   "outputs": [],
   "source": [
    "# LangGraph\n",
    "\n",
    "builder = StateGraph(State)\n",
    "\n",
    "builder.add_node('LLM_Node',llm_node)\n",
    "builder.add_node('tools',ToolNode(tool_kit))\n",
    "\n",
    "builder.add_edge(START,\"LLM_Node\")\n",
    "builder.add_conditional_edges('LLM_Node',tools_condition)\n",
    "builder.add_edge(\"tools\", \"LLM_Node\")\n",
    "\n",
    "graph = builder.compile()"
   ]
  },
  {
   "cell_type": "code",
   "execution_count": 98,
   "id": "f056525d",
   "metadata": {},
   "outputs": [
    {
     "name": "stdout",
     "output_type": "stream",
     "text": [
      "        +-----------+         \n",
      "        | __start__ |         \n",
      "        +-----------+         \n",
      "               *              \n",
      "               *              \n",
      "               *              \n",
      "         +----------+         \n",
      "         | LLM_Node |         \n",
      "         +----------+         \n",
      "          .         .         \n",
      "        ..           ..       \n",
      "       .               .      \n",
      "+---------+         +-------+ \n",
      "| __end__ |         | tools | \n",
      "+---------+         +-------+ \n"
     ]
    }
   ],
   "source": [
    "print(graph.get_graph().draw_ascii())"
   ]
  },
  {
   "cell_type": "code",
   "execution_count": 111,
   "id": "364bec13",
   "metadata": {},
   "outputs": [],
   "source": [
    "input_message = [{'role':'user','content':'Use Tool and tell Who invented the television?'}]\n",
    "response = graph.invoke({'messages':input_message})\n",
    "ans = response['messages'][-1].content"
   ]
  },
  {
   "cell_type": "code",
   "execution_count": 112,
   "id": "46383d50",
   "metadata": {},
   "outputs": [
    {
     "data": {
      "text/plain": [
       "'Philo Taylor Farnsworth was the inventor of television. He was granted the first patent for a fully electronic television system.'"
      ]
     },
     "execution_count": 112,
     "metadata": {},
     "output_type": "execute_result"
    }
   ],
   "source": [
    "ans"
   ]
  },
  {
   "cell_type": "code",
   "execution_count": 113,
   "id": "f04d77b1",
   "metadata": {},
   "outputs": [
    {
     "data": {
      "text/plain": [
       "{'messages': [HumanMessage(content='Use Tool and tell Who invented the television?', additional_kwargs={}, response_metadata={}, id='4d864e22-9b74-46ff-bb77-b033ca6a98e7'),\n",
       "  AIMessage(content='', additional_kwargs={'function_call': {'name': 'google_search', 'arguments': '{\"query\": \"Who invented the television?\"}'}}, response_metadata={'prompt_feedback': {'block_reason': 0, 'safety_ratings': []}, 'finish_reason': 'STOP', 'model_name': 'gemini-2.5-flash-lite', 'safety_ratings': []}, id='run--8c5a7b25-e719-4324-b849-64f287c1df2d-0', tool_calls=[{'name': 'google_search', 'args': {'query': 'Who invented the television?'}, 'id': '1a804738-add6-4275-b2b5-0ee3858c9952', 'type': 'tool_call'}]),\n",
       "  ToolMessage(content='Philo Taylor Farnsworth (August 19, 1906 – March 11, 1971), \"The father of television\", was the American inventor and pioneer who was granted the first\\xa0...', name='google_search', id='04421d41-e739-4f2c-ada2-4226ebb60415', tool_call_id='1a804738-add6-4275-b2b5-0ee3858c9952'),\n",
       "  AIMessage(content='Philo Taylor Farnsworth was the inventor of television. He was granted the first patent for a fully electronic television system.', additional_kwargs={}, response_metadata={'prompt_feedback': {'block_reason': 0, 'safety_ratings': []}, 'finish_reason': 'STOP', 'model_name': 'gemini-2.5-flash-lite', 'safety_ratings': []}, id='run--cdf7cdd0-7a4c-4def-ae5f-0db429980964-0')]}"
      ]
     },
     "execution_count": 113,
     "metadata": {},
     "output_type": "execute_result"
    }
   ],
   "source": [
    "response"
   ]
  },
  {
   "cell_type": "code",
   "execution_count": 114,
   "id": "5fd66f62",
   "metadata": {},
   "outputs": [],
   "source": [
    "input_message = [{'role':'user','content':'Use tool and tell what is the date today?'}]\n",
    "response = graph.invoke({'messages':input_message})\n",
    "ans = response['messages'][-1].content"
   ]
  },
  {
   "cell_type": "code",
   "execution_count": 115,
   "id": "2f3f1649",
   "metadata": {},
   "outputs": [
    {
     "data": {
      "text/plain": [
       "'I am sorry, I cannot fulfill this request. The available tools do not have the ability to access or provide the current date.'"
      ]
     },
     "execution_count": 115,
     "metadata": {},
     "output_type": "execute_result"
    }
   ],
   "source": [
    "ans"
   ]
  },
  {
   "cell_type": "code",
   "execution_count": 116,
   "id": "408e2cbb",
   "metadata": {},
   "outputs": [
    {
     "data": {
      "text/plain": [
       "{'messages': [HumanMessage(content='Use tool and tell what is the date today?', additional_kwargs={}, response_metadata={}, id='5290c479-6036-44ab-89f1-55cc440df9c8'),\n",
       "  AIMessage(content='I am sorry, I cannot fulfill this request. The available tools do not have the ability to access or provide the current date.', additional_kwargs={}, response_metadata={'prompt_feedback': {'block_reason': 0, 'safety_ratings': []}, 'finish_reason': 'STOP', 'model_name': 'gemini-2.5-flash-lite', 'safety_ratings': []}, id='run--284bf524-1d78-4349-9c2f-0da3831bd2da-0')]}"
      ]
     },
     "execution_count": 116,
     "metadata": {},
     "output_type": "execute_result"
    }
   ],
   "source": [
    "response"
   ]
  },
  {
   "cell_type": "code",
   "execution_count": 117,
   "id": "be27d529",
   "metadata": {},
   "outputs": [],
   "source": [
    "input_message = [{'role':'user','content':'What was the maximum temperature of Delhi NCR today? use google_search'}]\n",
    "response = graph.invoke({'messages':input_message})\n",
    "ans = response['messages'][-1].content"
   ]
  },
  {
   "cell_type": "code",
   "execution_count": 118,
   "id": "62cb5481",
   "metadata": {},
   "outputs": [
    {
     "data": {
      "text/plain": [
       "'The maximum temperature in Delhi NCR today is 28°C.'"
      ]
     },
     "execution_count": 118,
     "metadata": {},
     "output_type": "execute_result"
    }
   ],
   "source": [
    "ans"
   ]
  },
  {
   "cell_type": "code",
   "execution_count": 119,
   "id": "5b2b7d65",
   "metadata": {},
   "outputs": [
    {
     "data": {
      "text/plain": [
       "{'messages': [HumanMessage(content='What was the maximum temperature of Delhi NCR today? use google_search', additional_kwargs={}, response_metadata={}, id='25c57482-3161-4a03-b740-e7c0892455e5'),\n",
       "  AIMessage(content='', additional_kwargs={'function_call': {'name': 'google_search', 'arguments': '{\"query\": \"maximum temperature Delhi NCR today\"}'}}, response_metadata={'prompt_feedback': {'block_reason': 0, 'safety_ratings': []}, 'finish_reason': 'STOP', 'model_name': 'gemini-2.5-flash-lite', 'safety_ratings': []}, id='run--296d3483-f8d4-4b5e-a9a0-7f8046439263-0', tool_calls=[{'name': 'google_search', 'args': {'query': 'maximum temperature Delhi NCR today'}, 'id': 'eae69b0b-a2a2-4769-92f1-8e0a25375f34', 'type': 'tool_call'}]),\n",
       "  ToolMessage(content=\"Today's Weather in Delhi: In Delhi today, the weather is expected to be Partly Cloudy with a maximum temperature of 28°C and a minimum of 17°C. Sunrise in\\xa0...\", name='google_search', id='e364348c-0f0b-4b7f-bd51-4c14d8b0a60d', tool_call_id='eae69b0b-a2a2-4769-92f1-8e0a25375f34'),\n",
       "  AIMessage(content='The maximum temperature in Delhi NCR today is 28°C.', additional_kwargs={}, response_metadata={'prompt_feedback': {'block_reason': 0, 'safety_ratings': []}, 'finish_reason': 'STOP', 'model_name': 'gemini-2.5-flash-lite', 'safety_ratings': []}, id='run--e3949c4a-3917-41c1-8d47-db7473c7ae7e-0')]}"
      ]
     },
     "execution_count": 119,
     "metadata": {},
     "output_type": "execute_result"
    }
   ],
   "source": [
    "response"
   ]
  },
  {
   "cell_type": "code",
   "execution_count": 120,
   "id": "1521b9f8",
   "metadata": {},
   "outputs": [
    {
     "name": "stdout",
     "output_type": "stream",
     "text": [
      "[9, 11, 5, 7]\n"
     ]
    }
   ],
   "source": [
    "input_message = [{'role':'user','content':'add 2 in every element of list a=[7,9,3,5]. use tool'}]\n",
    "response = graph.invoke({'messages':input_message})\n",
    "ans = response['messages'][-1].content"
   ]
  },
  {
   "cell_type": "code",
   "execution_count": 121,
   "id": "2add0a08",
   "metadata": {},
   "outputs": [
    {
     "data": {
      "text/plain": [
       "''"
      ]
     },
     "execution_count": 121,
     "metadata": {},
     "output_type": "execute_result"
    }
   ],
   "source": [
    "ans"
   ]
  },
  {
   "cell_type": "code",
   "execution_count": 122,
   "id": "bad42f58",
   "metadata": {},
   "outputs": [
    {
     "data": {
      "text/plain": [
       "{'messages': [HumanMessage(content='add 2 in every element of list a=[7,9,3,5]. use tool', additional_kwargs={}, response_metadata={}, id='2f2c3372-2246-42a4-b239-7c65eb2cbfb9'),\n",
       "  AIMessage(content='', additional_kwargs={'function_call': {'name': 'run_python', 'arguments': '{\"code\": \"a = [7, 9, 3, 5]\\\\nnew_a = [x + 2 for x in a]\\\\nprint(new_a)\"}'}}, response_metadata={'prompt_feedback': {'block_reason': 0, 'safety_ratings': []}, 'finish_reason': 'STOP', 'model_name': 'gemini-2.5-flash-lite', 'safety_ratings': []}, id='run--7baf5eb6-ec39-45ec-92e0-a6919af838eb-0', tool_calls=[{'name': 'run_python', 'args': {'code': 'a = [7, 9, 3, 5]\\nnew_a = [x + 2 for x in a]\\nprint(new_a)'}, 'id': 'bf9bc924-db0b-4ca5-ae70-9336a017d20b', 'type': 'tool_call'}]),\n",
       "  ToolMessage(content='{\"a\": [7, 9, 3, 5], \"new_a\": [9, 11, 5, 7]}', name='run_python', id='d05befcc-9a4d-4f51-8e0e-8562728aa1e4', tool_call_id='bf9bc924-db0b-4ca5-ae70-9336a017d20b'),\n",
       "  AIMessage(content='', additional_kwargs={}, response_metadata={'prompt_feedback': {'block_reason': 0, 'safety_ratings': []}, 'finish_reason': 'STOP', 'model_name': 'gemini-2.5-flash-lite', 'safety_ratings': []}, id='run--d484c32c-4b5f-4c33-a2c2-25a152052a18-0')]}"
      ]
     },
     "execution_count": 122,
     "metadata": {},
     "output_type": "execute_result"
    }
   ],
   "source": [
    "response"
   ]
  },
  {
   "cell_type": "code",
   "execution_count": null,
   "id": "d2fb1d11",
   "metadata": {},
   "outputs": [],
   "source": []
  },
  {
   "cell_type": "code",
   "execution_count": null,
   "id": "5cbe58f7",
   "metadata": {},
   "outputs": [],
   "source": []
  },
  {
   "cell_type": "code",
   "execution_count": null,
   "id": "c7b2cd8c",
   "metadata": {},
   "outputs": [],
   "source": []
  }
 ],
 "metadata": {
  "kernelspec": {
   "display_name": "base",
   "language": "python",
   "name": "python3"
  },
  "language_info": {
   "codemirror_mode": {
    "name": "ipython",
    "version": 3
   },
   "file_extension": ".py",
   "mimetype": "text/x-python",
   "name": "python",
   "nbconvert_exporter": "python",
   "pygments_lexer": "ipython3",
   "version": "3.13.5"
  }
 },
 "nbformat": 4,
 "nbformat_minor": 5
}
