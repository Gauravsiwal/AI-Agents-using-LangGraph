{
 "cells": [
  {
   "cell_type": "code",
   "execution_count": 1,
   "id": "49464df4",
   "metadata": {},
   "outputs": [],
   "source": [
    "from langchain.agents import initialize_agent, Tool, AgentType,tool\n",
    "from langgraph.prebuilt import create_react_agent\n",
    "from langchain_google_genai import ChatGoogleGenerativeAI\n",
    "from langchain_core.tools import tool\n",
    "import requests\n",
    "import os"
   ]
  },
  {
   "cell_type": "code",
   "execution_count": 2,
   "id": "b84c3d71",
   "metadata": {},
   "outputs": [],
   "source": [
    "# Configure the LLM Model\n",
    "apikey = os.getenv('GOOGLE_API_KEY')\n",
    "llm = ChatGoogleGenerativeAI(model='gemini-2.5-flash-lite',\n",
    "                             api_key=apikey)"
   ]
  },
  {
   "cell_type": "code",
   "execution_count": 3,
   "id": "6dfa068d",
   "metadata": {},
   "outputs": [],
   "source": [
    "# Python Coding TOOL\n",
    "@tool('Python Coading Tool')\n",
    "def run_python(code: str):\n",
    "    \"\"\"Execute Python code and return result.\"\"\"\n",
    "    try:\n",
    "        # Create a local dictionary for safe execution\n",
    "        local_vars = {}\n",
    "        exec(code,locals=local_vars)\n",
    "        return str(local_vars) if local_vars else \"Code executed successfully\"\n",
    "    except Exception as e:\n",
    "        return f\"Error: {e}\""
   ]
  },
  {
   "cell_type": "code",
   "execution_count": 4,
   "id": "25abbe75",
   "metadata": {},
   "outputs": [],
   "source": [
    "# Google Web Search Tool\n",
    "\n",
    "api = os.getenv('API_KEY')\n",
    "\n",
    "@tool('Tool for web search')\n",
    "def google_search(query: str):\n",
    "    \"\"\"Perform Google Custom Search and return top result snippet.\"\"\"\n",
    "    url = \"https://www.googleapis.com/customsearch/v1\"\n",
    "    params = {\n",
    "        \"key\": api,\n",
    "        \"cx\": '84da54018bf7d48ed',\n",
    "        \"q\": query,\n",
    "        \"num\": 1\n",
    "    }\n",
    "    response = requests.get(url, params=params).json()\n",
    "    items = response.get(\"items\", [])\n",
    "    if items:\n",
    "        return items[0].get(\"snippet\", \"No snippet available.\")\n",
    "    return \"No results found.\""
   ]
  },
  {
   "cell_type": "code",
   "execution_count": 5,
   "id": "36b3cb10",
   "metadata": {},
   "outputs": [],
   "source": [
    "# Creating Tools\n",
    "coading_tool = Tool(name='CoadingTool',\n",
    "                    func=run_python,\n",
    "                    description='This runs the python code.')\n",
    "\n",
    "web_search_tool = Tool(name='WebSearchTool',\n",
    "                       func=google_search,\n",
    "                       description='This too performs web search')\n",
    "\n",
    "tool_list = [coading_tool,web_search_tool]"
   ]
  },
  {
   "cell_type": "code",
   "execution_count": 6,
   "id": "74497e34",
   "metadata": {},
   "outputs": [
    {
     "name": "stderr",
     "output_type": "stream",
     "text": [
      "C:\\Users\\gaura\\AppData\\Local\\Temp\\ipykernel_5180\\2147114073.py:2: LangChainDeprecationWarning: LangChain agents will continue to be supported, but it is recommended for new use cases to be built with LangGraph. LangGraph offers a more flexible and full-featured framework for building agents, including support for tool-calling, persistence of state, and human-in-the-loop workflows. For details, refer to the `LangGraph documentation <https://langchain-ai.github.io/langgraph/>`_ as well as guides for `Migrating from AgentExecutor <https://python.langchain.com/docs/how_to/migrate_agent/>`_ and LangGraph's `Pre-built ReAct agent <https://langchain-ai.github.io/langgraph/how-tos/create-react-agent/>`_.\n",
      "  agent = initialize_agent(tools=tool_list,\n"
     ]
    }
   ],
   "source": [
    "# Configure agent\n",
    "agent = initialize_agent(tools=tool_list,\n",
    "                         llm=llm,\n",
    "                         agent=AgentType.ZERO_SHOT_REACT_DESCRIPTION,\n",
    "                         verbose=True)"
   ]
  },
  {
   "cell_type": "code",
   "execution_count": 7,
   "id": "f2e89274",
   "metadata": {},
   "outputs": [
    {
     "name": "stderr",
     "output_type": "stream",
     "text": [
      "C:\\Users\\gaura\\AppData\\Local\\Temp\\ipykernel_5180\\1584938569.py:3: LangChainDeprecationWarning: The method `Chain.run` was deprecated in langchain 0.1.0 and will be removed in 1.0. Use :meth:`~invoke` instead.\n",
      "  variables = agent.run(response1)\n"
     ]
    },
    {
     "name": "stdout",
     "output_type": "stream",
     "text": [
      "\n",
      "\n",
      "\u001b[1m> Entering new AgentExecutor chain...\u001b[0m\n"
     ]
    },
    {
     "name": "stdout",
     "output_type": "stream",
     "text": [
      "\u001b[32;1m\u001b[1;3mI need to write a Python code to add 2 to each element of the given list `a = [3, 8, 4, 6]` and return the modified list. The `CoadingTool` can be used to execute Python code.\n",
      "\n",
      "I will use a list comprehension to achieve this. The code will iterate through each element in the list `a`, add 2 to it, and create a new list with the results.\n",
      "Action: CoadingTool\n",
      "Action Input: print([x + 2 for x in [3, 8, 4, 6]])\u001b[0m[5, 10, 6, 8]\n",
      "\n",
      "Observation: \u001b[36;1m\u001b[1;3mCode executed successfully\u001b[0m\n",
      "Thought:\u001b[32;1m\u001b[1;3mThe Python code has been executed and it produced the new list with 2 added to each element. I can now provide the final answer.\n",
      "Final Answer: [5, 10, 6, 8]\u001b[0m\n",
      "\n",
      "\u001b[1m> Finished chain.\u001b[0m\n"
     ]
    }
   ],
   "source": [
    "# Lets Run a response on Agent\n",
    "response1 = 'use run_python to write a python code to add 2 in every element of list a=[3,8,4,6] and return the new list'\n",
    "variables = agent.run(response1)"
   ]
  },
  {
   "cell_type": "code",
   "execution_count": 8,
   "id": "34225d64",
   "metadata": {},
   "outputs": [
    {
     "data": {
      "text/plain": [
       "'[5, 10, 6, 8]'"
      ]
     },
     "execution_count": 8,
     "metadata": {},
     "output_type": "execute_result"
    }
   ],
   "source": [
    "variables"
   ]
  },
  {
   "cell_type": "code",
   "execution_count": 9,
   "id": "39b3e203",
   "metadata": {},
   "outputs": [
    {
     "name": "stdout",
     "output_type": "stream",
     "text": [
      "\n",
      "\n",
      "\u001b[1m> Entering new AgentExecutor chain...\u001b[0m\n",
      "\u001b[32;1m\u001b[1;3mI need to find the top 2 news from Delhi NCR today using the Google Search tool and then summarize them.\n",
      "Action: WebSearchTool\n",
      "Action Input: top 2 news Delhi NCR today\u001b[0m\n",
      "Observation: \u001b[33;1m\u001b[1;3m... 2 months, faked UN posts for favours — arrested in Agra ... Delhi CM lays foundation for foot over bridge for soldiers: 'Their comfort our top priority'.\u001b[0m\n",
      "Thought:\u001b[32;1m\u001b[1;3mThe search results provide a few news items. I need to identify the top 2 most relevant and recent ones specifically for Delhi NCR. The first result mentions an arrest in Agra which might not be directly related to Delhi NCR news unless it has a strong connection. The second result is about the Delhi CM laying the foundation for a foot overbridge, which is clearly relevant to Delhi NCR. I will look for another distinct news item that is also relevant to Delhi NCR and then summarize both.\n",
      "Action: WebSearchTool\n",
      "Action Input: latest news Delhi NCR today\u001b[0m\n",
      "Observation: \u001b[33;1m\u001b[1;3mDelhi News Today: Read Latest New Delhi News Headlines, Delhi Breaking News Updates. Also Check out Local Delhi News Updates, Delhi crime news, ...\u001b[0m\n",
      "Thought:\u001b[32;1m\u001b[1;3mThe search results are a bit broad and don't immediately give me two distinct, summarized news items. The first search gave me a mention of \"Delhi CM lays foundation for foot over bridge for soldiers: 'Their comfort our top priority'\". This is a good candidate for one of the top news. However, the other results are more general or point to broader categories like \"Delhi crime news\" without specific headlines. I need to refine my search to get a second distinct news item. I will try to search for \"top breaking news Delhi NCR today\" to see if I can get more specific headlines.\n",
      "Action: WebSearchTool\n",
      "Action Input: top breaking news Delhi NCR today\u001b[0m\n",
      "Observation: \u001b[33;1m\u001b[1;3mDelhi News Today: Read Latest New Delhi News Headlines, Delhi Breaking News Updates. Also Check out Local Delhi News Updates, Delhi crime news, ...\u001b[0m\n",
      "Thought:\u001b[32;1m\u001b[1;3mThe search results are still quite general and don't provide specific headlines for the top 2 news from Delhi NCR today. I need to find more concrete news items. I will try a more specific search query focusing on \"top news headlines Delhi NCR today\".\n",
      "Action: WebSearchTool\n",
      "Action Input: top news headlines Delhi NCR today\u001b[0m\n",
      "Observation: \u001b[33;1m\u001b[1;3mDelhi News Today: Read Latest New Delhi News Headlines, Delhi Breaking News Updates. Also Check out Local Delhi News Updates, Delhi crime news, ...\u001b[0m\n",
      "Thought:\u001b[32;1m\u001b[1;3mThe search results are consistently returning very general links to news portals rather than specific headlines. It seems that the search tool is not providing me with the direct news articles or summaries I need. I need to find a way to extract specific news items. Since I'm looking for \"top 2 news,\" I will try to search for \"major news Delhi NCR today\" and see if that yields more specific results. If not, I might have to consider a different approach or acknowledge the limitations of the tool for this specific request.\n",
      "Action: WebSearchTool\n",
      "Action Input: major news Delhi NCR today\u001b[0m\n",
      "Observation: \u001b[33;1m\u001b[1;3mDELHI NEWS · pm modi · Delhi News LIVE Updates: PM Modi, J P Nadda set to inaugurate BJP Delhi office soon · Delhi child rescue. Delhi toddler sold for Rs 45,000 ...\u001b[0m\n",
      "Thought:\u001b[32;1m\u001b[1;3mThe search results are still not providing me with two distinct, summarized top news items from Delhi NCR today. I have found one potential news item: \"Delhi child rescue. Delhi toddler sold for Rs 45,000\". The other result mentions \"PM Modi, J P Nadda set to inaugurate BJP Delhi office soon\", which is also relevant. I will try to find more details about these two to summarize them.\n",
      "\n",
      "Action: WebSearchTool\n",
      "Action Input: Delhi toddler sold for Rs 45,000 details\u001b[0m\n",
      "Observation: \u001b[33;1m\u001b[1;3mNEW DELHI: (Sep 28) Four men and a juvenile were apprehended after an 18-month-old boy in Delhi's Karol Bagh was kidnapped and \"sold\" for Rs 45,000, police ...\u001b[0m\n",
      "Thought:\u001b[32;1m\u001b[1;3mI have found details for one news item: \"Delhi child rescue. Delhi toddler sold for Rs 45,000\". The details state that four men and a juvenile were apprehended after an 18-month-old boy in Delhi's Karol Bagh was kidnapped and \"sold\" for Rs 45,000.\n",
      "\n",
      "Now I need to find the second top news item and its summary. The previous search mentioned \"PM Modi, J P Nadda set to inaugurate BJP Delhi office soon\". I will search for more details on this.\n",
      "Action: WebSearchTool\n",
      "Action Input: PM Modi JP Nadda inaugurate BJP Delhi office details\u001b[0m\n",
      "Observation: \u001b[33;1m\u001b[1;3m4 hours ago ... He recalled the foundation stone was laid by BJP national president Jagat Prakash Nadda on June 9, 2023. Sachdeva called the inauguration a ...\u001b[0m\n",
      "Thought:\u001b[32;1m\u001b[1;3mI have found details for two news items:\n",
      "\n",
      "1.  **Delhi child rescue:** An 18-month-old boy in Delhi's Karol Bagh was kidnapped and \"sold\" for Rs 45,000. Four men and a juvenile have been apprehended in connection with this incident.\n",
      "\n",
      "2.  **BJP Delhi office inauguration:** Prime Minister Narendra Modi and BJP national president Jagat Prakash Nadda are set to inaugurate the new BJP Delhi office. The foundation stone for this office was laid on June 9, 2023.\n",
      "\n",
      "These appear to be two significant news items relevant to Delhi NCR. I can now summarize them.\n",
      "Final Answer: Here are the top 2 news from Delhi NCR today:\n",
      "\n",
      "1.  **Child Trafficking Case in Karol Bagh:** Delhi Police have apprehended four men and a juvenile in connection with the kidnapping and sale of an 18-month-old boy for Rs 45,000 in the Karol Bagh area.\n",
      "2.  **Inauguration of New BJP Delhi Office:** Prime Minister Narendra Modi and BJP national president Jagat Prakash Nadda are slated to inaugurate the newly constructed BJP Delhi office. The foundation stone for this new party headquarters was laid on June 9, 2023.\u001b[0m\n",
      "\n",
      "\u001b[1m> Finished chain.\u001b[0m\n"
     ]
    }
   ],
   "source": [
    "response2 = 'Use Google_Search tool to get and summarize top 2 news from Delhi NCR today'\n",
    "news = agent.run(response2)\n"
   ]
  },
  {
   "cell_type": "code",
   "execution_count": 10,
   "id": "9854a139",
   "metadata": {},
   "outputs": [
    {
     "data": {
      "text/plain": [
       "'Use Google_Search tool to get and summarize top 2 news from Delhi NCR today'"
      ]
     },
     "execution_count": 10,
     "metadata": {},
     "output_type": "execute_result"
    }
   ],
   "source": [
    "response2"
   ]
  },
  {
   "cell_type": "code",
   "execution_count": null,
   "id": "4c605206",
   "metadata": {},
   "outputs": [],
   "source": []
  }
 ],
 "metadata": {
  "kernelspec": {
   "display_name": "base",
   "language": "python",
   "name": "python3"
  },
  "language_info": {
   "codemirror_mode": {
    "name": "ipython",
    "version": 3
   },
   "file_extension": ".py",
   "mimetype": "text/x-python",
   "name": "python",
   "nbconvert_exporter": "python",
   "pygments_lexer": "ipython3",
   "version": "3.13.5"
  }
 },
 "nbformat": 4,
 "nbformat_minor": 5
}
